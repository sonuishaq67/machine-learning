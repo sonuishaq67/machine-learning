{
 "cells": [
  {
   "cell_type": "code",
   "execution_count": 1,
   "id": "c7cfbe4a",
   "metadata": {},
   "outputs": [],
   "source": [
    "import numpy as np\n",
    "import pandas as pd\n",
    "from sklearn.naive_bayes import GaussianNB\n",
    "import matplotlib.pyplot as plt\n",
    "from sklearn.preprocessing import LabelEncoder\n",
    "from sklearn.model_selection import train_test_split\n",
    "from sklearn.metrics import *\n",
    "import seaborn as sns\n",
    "%matplotlib inline"
   ]
  },
  {
   "cell_type": "code",
   "execution_count": 9,
   "id": "ba3a13f7",
   "metadata": {},
   "outputs": [
    {
     "name": "stdout",
     "output_type": "stream",
     "text": [
      "     B  LW  LD  RW  RD\n",
      "0    R   1   1   1   2\n",
      "1    R   1   1   1   3\n",
      "2    R   1   1   1   4\n",
      "3    R   1   1   1   5\n",
      "4    R   1   1   2   1\n",
      "..  ..  ..  ..  ..  ..\n",
      "619  L   5   5   5   1\n",
      "620  L   5   5   5   2\n",
      "621  L   5   5   5   3\n",
      "622  L   5   5   5   4\n",
      "623  B   5   5   5   5\n",
      "\n",
      "[624 rows x 5 columns]\n",
      "<class 'pandas.core.frame.DataFrame'>\n",
      "RangeIndex: 624 entries, 0 to 623\n",
      "Data columns (total 5 columns):\n",
      " #   Column  Non-Null Count  Dtype \n",
      "---  ------  --------------  ----- \n",
      " 0   B       624 non-null    object\n",
      " 1   LW      624 non-null    int64 \n",
      " 2   LD      624 non-null    int64 \n",
      " 3   RW      624 non-null    int64 \n",
      " 4   RD      624 non-null    int64 \n",
      "dtypes: int64(4), object(1)\n",
      "memory usage: 24.5+ KB\n"
     ]
    }
   ],
   "source": [
    "data = pd.read_csv('./Datasets/balance-scale.data')\n",
    "data.rename(columns={'1': 'LW', '1.1': 'LD', '1.2': 'RW', '1.3': 'RD'}, inplace=True)\n",
    "print(data)\n",
    "data.info()"
   ]
  },
  {
   "cell_type": "code",
   "execution_count": 3,
   "id": "90523b4a",
   "metadata": {},
   "outputs": [],
   "source": [
    "le = LabelEncoder()\n",
    "labels=data[['LW', 'LD', 'RW', 'RD']]\n",
    "data['Ble'] = le.fit_transform(data['B'])\n",
    "outcome = data['Ble']\n",
    "trainx, testx, trainy, testy = train_test_split(labels, outcome, test_size=0.25, random_state=29538)"
   ]
  },
  {
   "cell_type": "code",
   "execution_count": 4,
   "id": "95721843",
   "metadata": {},
   "outputs": [],
   "source": [
    "model = GaussianNB()\n",
    "model.fit(trainx, trainy)\n",
    "preds = model.predict(testx)\n",
    "proba = model.predict_proba(testx)"
   ]
  },
  {
   "cell_type": "code",
   "execution_count": 5,
   "id": "79c3ad0a",
   "metadata": {},
   "outputs": [
    {
     "name": "stdout",
     "output_type": "stream",
     "text": [
      "[[ 0  3  2]\n",
      " [ 0 76  2]\n",
      " [ 0  0 73]]\n"
     ]
    },
    {
     "data": {
      "image/png": "[encoded data removed]",
      "text/plain": [
       "<Figure size 432x288 with 2 Axes>"
      ]
     },
     "metadata": {
      "needs_background": "light"
     },
     "output_type": "display_data"
    },
    {
     "data": {
      "text/plain": [
       "(156, 4)"
      ]
     },
     "execution_count": 5,
     "metadata": {},
     "output_type": "execute_result"
    }
   ],
   "source": [
    "cm = confusion_matrix(testy, preds)\n",
    "print(cm)\n",
    "cmd = ConfusionMatrixDisplay(cm, display_labels=model.classes_)\n",
    "cmd.plot()\n",
    "plt.show()\n",
    "testx.shape"
   ]
  },
  {
   "cell_type": "code",
   "execution_count": 6,
   "id": "a582c52f",
   "metadata": {},
   "outputs": [
    {
     "name": "stdout",
     "output_type": "stream",
     "text": [
      "acc=0.9551282051282052,rec=0.9551282051282052, pre=0.9551282051282052, f1=0.9551282051282052, mcc=0.9149290563751271\n"
     ]
    }
   ],
   "source": [
    "acc = accuracy_score(testy,preds)\n",
    "rec = recall_score(testy, preds , average='micro')\n",
    "pre = precision_score(testy, preds, average='micro')\n",
    "f1 = f1_score(testy, preds, average='micro')\n",
    "mcc = matthews_corrcoef(testy, preds)\n",
    "print(f\"{acc=},{rec=}, {pre=}, {f1=}, {mcc=}\")"
   ]
  },
  {
   "cell_type": "code",
   "execution_count": 7,
   "id": "2bfa0867",
   "metadata": {},
   "outputs": [
    {
     "name": "stdout",
     "output_type": "stream",
     "text": [
      "AUC's:\n",
      "balanced vs rest:  0.7774834437086093\n",
      "left vs rest:  0.9975345167652859\n",
      "right vs rest:  0.9986796501072784\n"
     ]
    },
    {
     "data": {
      "image/png": "[encoded data removed]",
      "text/plain": [
       "<Figure size 432x288 with 1 Axes>"
      ]
     },
     "metadata": {
      "needs_background": "light"
     },
     "output_type": "display_data"
    }
   ],
   "source": [
    "fpr={}\n",
    "tpr={}\n",
    "thresh={}\n",
    "auc={}\n",
    "\n",
    "def get_auc(fprs, tprs):\n",
    "    fpr = fprs[::-1]\n",
    "    tpr = tprs[::-1]\n",
    "    x1,y1 = fpr[0], tpr[0]\n",
    "    auc=0.0\n",
    "    diffs = [fpr[i] - fpr[i-1] for i in range(1, len(fpr))]\n",
    "    for x,y in zip(diffs, tpr[1:]):\n",
    "        auc+=(x*y1)\n",
    "        auc+=(x*(y-y1)/2)\n",
    "        y1=y\n",
    "    return auc\n",
    "        \n",
    "        \n",
    "nclass = 3\n",
    "for i in range(nclass):\n",
    "    fpr[i], tpr[i], thresh[i] = roc_curve(testy, proba[:,i], pos_label=i)\n",
    "    auc[i] = get_auc(fpr[i], tpr[i])\n",
    "\n",
    "    \n",
    "print(\"AUC's:\")\n",
    "print(\"balanced vs rest: \", -auc[0])\n",
    "print(\"left vs rest: \", -auc[1])\n",
    "print(\"right vs rest: \", -auc[2])\n",
    "\n",
    "\n",
    "\n",
    "plt.plot(fpr[0], tpr[0], linestyle='-', color='red', label='balanced vs rest')\n",
    "plt.plot(fpr[1], tpr[1], linestyle='-', color='yellow', label='left vs rest')\n",
    "plt.plot(fpr[2], tpr[2], linestyle='-', color='blue', label='right vs rest')\n",
    "plt.plot([[0, 0], [1, 1]], linestyle='--', color=\"black\")\n",
    "plt.title('ROC Curve')\n",
    "plt.legend(loc='best')\n",
    "plt.show()"
   ]
  },
  {
   "cell_type": "code",
   "execution_count": null,
   "id": "92434e16",
   "metadata": {},
   "outputs": [],
   "source": []
  }
 ],
 "metadata": {
  "kernelspec": {
   "display_name": "Python 3 (ipykernel)",
   "language": "python",
   "name": "python3"
  },
  "language_info": {
   "codemirror_mode": {
    "name": "ipython",
    "version": 3
   },
   "file_extension": ".py",
   "mimetype": "text/x-python",
   "name": "python",
   "nbconvert_exporter": "python",
   "pygments_lexer": "ipython3",
   "version": "3.10.5"
  }
 },
 "nbformat": 4,
 "nbformat_minor": 5
}
